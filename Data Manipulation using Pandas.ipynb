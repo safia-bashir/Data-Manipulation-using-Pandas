{
 "cells": [
  {
   "attachments": {
    "pandas.png": {
     "image/png": "[encoded data removed]"
    }
   },
   "cell_type": "markdown",
   "metadata": {},
   "source": [
    "# Data Manipulation using Pandas\n",
    "\n",
    "\n",
    "\n",
    "![pandas.png](attachment:pandas.png)\n",
    "\n",
    "Pandas is a Python library that provides powerful, flexible and high-performance tools for data processing. It was created by Wes McKinney in 2008.\n",
    "\n",
    "\n",
    "The following are some of its key features:\n",
    "* Provides high-performance DataFrame objects with effective indexing.\n",
    "* Provides tools for loading data into memory with multiple file formats.\n",
    "* Provides high performance for operations such as data merges and joins.\n",
    "* Provides support for manipulating time series data.\n",
    "* Row and column data can be easily manipulated.\n",
    "* SQL-like operations are supported.\n",
    "* Vectorized operations are supported.\n",
    "* Large data sets can be sliced, indexed, and subset based on their label.\n",
    "\n",
    "\n",
    "In this  blog post we are going to learn about different data manipulation using pandas \n",
    "\n"
   ]
  },
  {
   "cell_type": "markdown",
   "metadata": {},
   "source": [
    "# 1- Sorting a DataFrame\n",
    "Pandas allow you to sort data in different ways.  Below are some ways to sort data.\n",
    "\n",
    "### Sort DataFrame by index\n",
    "Usually, our index is meaningless and starts from zero. However,The index can serve as a sorting mechanism in some cases.\n",
    "\n",
    "You can sort a DataFrame object by index by calling sort_index(). By default, the index is sorted ascending; for descending order, pass ascending=False "
   ]
  },
  {
   "cell_type": "code",
   "execution_count": null,
   "metadata": {},
   "outputs": [],
   "source": [
    "import pandas as pd\n",
    "import numpy as np\n",
    "\n",
    "df = pd.DataFrame(np.random.randn(4,2), index=[3,1,0,2], columns = ['c1','c2'])\n",
    "print(\"Original DataFrame\")\n",
    "print(df)\n",
    "print(\"-------------------------------------\")\n",
    "\n",
    "sorted_df = df.sort_index()\n",
    "print(\" sorted DataFrame(ascending)\" )\n",
    "print(sorted_df)\n",
    "print(\"-------------------------------------\")\n",
    "\n",
    "print(\" Sorted DataFrame (descending) \")\n",
    "sorted_df = df.sort_index(ascending=False)\n",
    "print(sorted_df)"
   ]
  },
  {
   "cell_type": "markdown",
   "metadata": {},
   "source": [
    "\n",
    "### Sort DataFrame by value\n",
    "\n",
    "Sorting is done by sort_values(), which sorts Series by value, and DataFrame by column. The option by is used to specify which columns to use to determine the sort order.\n",
    "\n"
   ]
  },
  {
   "cell_type": "code",
   "execution_count": null,
   "metadata": {},
   "outputs": [],
   "source": [
    "d={\"a\" : [4, 1, 1, 2], \"b\":[1, 4, 2, 6], \"c\":[3,1,6,5]}\n",
    "df = pd.DataFrame(d)\n",
    "print(\"Original DataFrame \")\n",
    "print(df)\n",
    "print(\"-------------------------------------\")\n",
    "\n",
    "sorted_df = df.sort_values(by=\"a\")\n",
    "print(\"The  DataFrame is sorted by the column \\\"a\\\"\")\n",
    "print(sorted_df)\n",
    "print(\"-------------------------------------\")\n",
    "\n",
    "sorted_df = df.sort_values(by=[\"a\",\"b\"])\n",
    "print(\"The  DataFrame is sorted by the both column \\\"a\\\" and \\\"b\\\"\")\n",
    "print(sorted_df)\n",
    "print(\"-------------------------------------\")"
   ]
  },
  {
   "cell_type": "markdown",
   "metadata": {},
   "source": [
    "# 2-Apply Function to a DataFrame\n",
    "\n",
    "Data Frames can be operated on using the apply() function in Pandas. Let's see how that works.\n",
    "\n",
    "### Use apply function\n",
    "Using apply(), you can pass a function or lambda to a single column, which allows the user to apply the function to each value of the pandas Series and return the result.\n"
   ]
  },
  {
   "cell_type": "code",
   "execution_count": null,
   "metadata": {},
   "outputs": [],
   "source": [
    "\n",
    "d = {\"a\": [1,2,3,4],\"b\":[2,3,4,5],\"c\":[3,4,5,6]}\n",
    "df = pd.DataFrame(d)\n",
    "print(\" original DataFrame\")\n",
    "print(df)\n",
    "print(\"--------------------------------------\")\n",
    "df[\"a*2\"] = df[\"a\"].apply(lambda s:s*2)\n",
    "\n",
    "print(df)"
   ]
  },
  {
   "cell_type": "markdown",
   "metadata": {},
   "source": [
    "###  Apply on multiple columns\n",
    "\n",
    "As seen in the last example, pandas is only sending a single column to the function. You need to pass axis=1 if you want to create a column based on two columns; then the entire row will be passed to the function/lambda. \n"
   ]
  },
  {
   "cell_type": "code",
   "execution_count": null,
   "metadata": {},
   "outputs": [],
   "source": [
    "\n",
    "d = {\"a\": [1,2,3,4],\"b\":[2,3,4,5],\"c\":[3,4,5,6]}\n",
    "df = pd.DataFrame(d)\n",
    "print(\" Original DataFrame\")\n",
    "print(df)\n",
    "print(\"--------------------------------------\")\n",
    "df[\"a+b\"] = df.apply(lambda row:row.a + row.b, axis=1)\n",
    "print(df)"
   ]
  },
  {
   "cell_type": "markdown",
   "metadata": {},
   "source": [
    "# 3-Drop Duplicate Row\n",
    "Data cleaning often involves removing duplicate rows from a dataset. Sometimes the whole row is dropped when it is a duplicate. At other times, we only drop the rows based on selected columns.\n",
    "\n",
    "Drop_duplicates is a powerful and convenient function provided by Pandas. Let's find out how to use it.\n",
    "\n",
    "### Check for duplicate rows in the DataFrame.\n",
    "\n",
    "It may be necessary to determine if a row or only selected columns are duplicated before removing them from the table. The duplicated() function lets you know whether the values of a column are identical or not. You can apply this function to the index, series, and Data Frame\n",
    "\n",
    ". You can find out whether the whole row is duplicated with df.duplicated()\n",
    ". Use df.duplicated(subset=[\"col1\", \"col2\"]) to determine if some selected columns are duplicated\n",
    "\n",
    "### Drop the whole row\n",
    "Using drop_duplicates(), you can simply get rid of duplicate rows based on the whole row\n"
   ]
  },
  {
   "cell_type": "code",
   "execution_count": null,
   "metadata": {},
   "outputs": [],
   "source": [
    "df.drop_duplicates()"
   ]
  },
  {
   "cell_type": "markdown",
   "metadata": {},
   "source": [
    "### Drop rows based on selected columns\n",
    "\n",
    "When using the drop_duplicates function, all the columns will be used to determine whether or not a row is a duplicate. However, you may want to remove rows on specific columns. We can use the option subset to identify duplicate rows by passing the column name\n",
    "\n",
    "\n",
    "If you wish to keep some duplicate rows, the option, (keep) determines which duplicate rows (if any) should be kept :\n",
    "\n",
    "* First: Drops duplicates except for the first.\n",
    "* Last: Drops duplicates except for the last.\n",
    "* False: Drops all duplicate rows"
   ]
  },
  {
   "cell_type": "code",
   "execution_count": null,
   "metadata": {},
   "outputs": [],
   "source": [
    "d = {\n",
    "    \"col1\": [1, 2, 3, 4, 5],\n",
    "    \"col2\": [\"aa\", \"aa\", \"b\", \"d\", \"d\"],\n",
    "    \"col3\": [1, 1, 5, 4, 3]\n",
    "}\n",
    "\n",
    "df = pd.DataFrame(d)\n",
    "print(\"original DataFrame\")\n",
    "print(df)\n",
    "print(\"----------------------------------\")\n",
    "result = df.drop_duplicates(subset=[\"col2\", \"col3\"], keep=\"last\")\n",
    "\n",
    "print(result)\n"
   ]
  },
  {
   "cell_type": "markdown",
   "metadata": {},
   "source": [
    "# 4 -Deal With datetime\n",
    "\n",
    "Now let's see how we can deal with datetime in Pandas.\n",
    "\n",
    "Pandas includes extensive features and capabilities for working with time series data, which means it has a lot of features to deal with datetime-related issues\n",
    "\n",
    "### Generate date range\n",
    "\n",
    "Using date_range, a series of dates can be generated whose default frequency is a DAY.\n",
    "\n",
    "The following example generates a series of 5 days."
   ]
  },
  {
   "cell_type": "code",
   "execution_count": null,
   "metadata": {},
   "outputs": [],
   "source": [
    "pd.date_range(\"1/1/2020\", periods=5)"
   ]
  },
  {
   "cell_type": "markdown",
   "metadata": {},
   "source": [
    "What follows is a table containing the most common abbreviations for frequency.\n",
    "\n",
    "\n",
    "Abbreviation |Meaning \n",
    "-------------|------- \n",
    "D|Day\n",
    "W|week\n",
    "M|month \n",
    "B|work day\n",
    "SM|half month\n",
    "MS| month start\n",
    "Q| end of quarter\n",
    "H| hour\n",
    "T| minute"
   ]
  },
  {
   "cell_type": "markdown",
   "metadata": {},
   "source": [
    " ### Convert string to timestamp\n",
    "    \n",
    "By calling to_datetime, you can parse a string into a timestamp. The equivalent is calling the timestamp\n",
    "    "
   ]
  },
  {
   "cell_type": "code",
   "execution_count": null,
   "metadata": {},
   "outputs": [],
   "source": [
    "ts = pd.to_datetime(\"2020/1/1\")\n",
    "print(ts)\n",
    "ts2 = pd.Timestamp(\"2020/1/1\")\n",
    "print(ts2)"
   ]
  },
  {
   "cell_type": "markdown",
   "metadata": {},
   "source": [
    " In above  code, the first line shows how to convert a string into a datetime object by calling to_datetime(). The third line does the same thing, but by utilizing the Timestamp function.\n",
    " \n",
    " "
   ]
  },
  {
   "cell_type": "markdown",
   "metadata": {},
   "source": [
    "# 5- Export Data to File\n",
    "\n",
    "A local file has to be exported in many cases so that data can be stored permanently. Let's explore how data can be exported from memory to local files. Apart from common text-like formats, such as CSV and JSON, it also supports some binary formats, such as pickle and hdf. In this blog we will only cover CSV and Excel. The usage of these formats will be the same as for other formats.\n",
    "\n",
    "\n",
    "\n",
    "### Export data to CSV file \n",
    "\n",
    "A DataFrame is essentially a 2D table, so it makes sense to store the file as a CSV file.\n",
    "To export to a CSV file, simply call to_csv().\n"
   ]
  },
  {
   "cell_type": "code",
   "execution_count": null,
   "metadata": {},
   "outputs": [],
   "source": [
    "d = {\"a\": [1, 2, 3, 4], \"b\": [2, 3, 4, 5], \"c\": [3, 4, 5, 6]}\n",
    "df = pd.DataFrame(d)\n",
    "df.to_csv('output/d.csv')"
   ]
  },
  {
   "cell_type": "markdown",
   "metadata": {},
   "source": [
    "here are some important options you need to know.\n",
    "\n",
    "* index: The default value is True, which would export the index to the file, too. Even if your original data doesn’t need any index, it still adds the integer index starting from 0. If you don’t need it, just pass index=False.\n",
    "\n",
    "* sep: The default separator is a comma, but you can specify a custom delimiter\n",
    "\n",
    "* float_format: You may want to save some storage because the default floating has a very long floating-point number. float_format='%.2f' rounds to two decimals.\n",
    "\n",
    "* header: The default value is True. If you don’t need the column names, just set header=False.\n",
    "\n",
    "* na_rep: If your data has a missing value, in other words, the data has NA, you can pass a string to represent these missing values."
   ]
  },
  {
   "cell_type": "markdown",
   "metadata": {},
   "source": [
    "### Export data to an Excel file\n",
    "\n",
    "\n",
    "Exporting Data Frames to an Excel file is slightly different from the CSV file because Excel files support multiple sheets. To write a single DataFrame to an Excel .xlsx file, it is only necessary to specify a file name.\n",
    "In order to write to multiple sheets, you must create an ExcelWriter object with the target file name and a sheet within the file.\n",
    "Meanwhile, to_excel() also supports the index, na_sep, header, and float_format options mentioned above.\n",
    "\n"
   ]
  },
  {
   "cell_type": "code",
   "execution_count": null,
   "metadata": {},
   "outputs": [],
   "source": [
    "\n",
    "d = {\"a\": [1, 2, 3, 4], \"b\": [2, 3, 4, 5], \"c\": [3, 4, 5, 6]}\n",
    "df = pd.DataFrame(d)\n",
    "# The **sheet_name** is optional.\n",
    "df.to_excel(\"output/output.xlsx\", sheet_name='Sheet_name_1')\n",
    "\n",
    "df1 = pd.DataFrame(d)\n",
    "\n",
    "with pd.ExcelWriter('output/output2.xlsx') as writer:  \n",
    "    df.to_excel(writer, sheet_name='Sheet_name_1')\n",
    "    df1.to_excel(writer, sheet_name='Sheet_name_2') "
   ]
  }
 ],
 "metadata": {
  "kernelspec": {
   "display_name": "Python 3",
   "language": "python",
   "name": "python3"
  },
  "language_info": {
   "codemirror_mode": {
    "name": "ipython",
    "version": 3
   },
   "file_extension": ".py",
   "mimetype": "text/x-python",
   "name": "python",
   "nbconvert_exporter": "python",
   "pygments_lexer": "ipython3",
   "version": "3.8.5"
  }
 },
 "nbformat": 4,
 "nbformat_minor": 4
}
